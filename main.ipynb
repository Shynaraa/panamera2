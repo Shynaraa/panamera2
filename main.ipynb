{
 "cells": [
  {
   "cell_type": "code",
   "execution_count": 4,
   "metadata": {},
   "outputs": [
    {
     "name": "stderr",
     "output_type": "stream",
     "text": [
      "[nltk_data] Downloading package stopwords to\n",
      "[nltk_data]     C:\\Users\\kaisa\\AppData\\Roaming\\nltk_data...\n",
      "[nltk_data]   Unzipping corpora\\stopwords.zip.\n"
     ]
    },
    {
     "data": {
      "text/plain": [
       "True"
      ]
     },
     "execution_count": 4,
     "metadata": {},
     "output_type": "execute_result"
    }
   ],
   "source": [
    "import nltk\n",
    "nltk.download('stopwords')"
   ]
  },
  {
   "cell_type": "code",
   "execution_count": 5,
   "metadata": {
    "scrolled": true
   },
   "outputs": [
    {
     "name": "stdout",
     "output_type": "stream",
     "text": [
      "epoch  1  loss =  153018.12208713405\n",
      "epoch  2  loss =  152862.68308706477\n",
      "epoch  3  loss =  152712.00197755118\n",
      "epoch  4  loss =  152565.3519790236\n",
      "epoch  5  loss =  152422.07068238637\n",
      "epoch  6  loss =  152281.55463256998\n",
      "epoch  7  loss =  152143.25638598463\n",
      "epoch  8  loss =  152006.68561452325\n",
      "epoch  9  loss =  151871.41718486752\n",
      "epoch  10  loss =  151737.11176892568\n",
      "epoch  11  loss =  151603.55945119174\n",
      "epoch  12  loss =  151470.76508247474\n",
      "epoch  13  loss =  151339.1041296849\n",
      "epoch  14  loss =  151209.5729405086\n",
      "epoch  15  loss =  151084.07411191537\n",
      "epoch  16  loss =  150965.39776458315\n",
      "epoch  17  loss =  150856.22062125523\n",
      "epoch  18  loss =  150757.10685972188\n",
      "epoch  19  loss =  150665.51042275908\n",
      "epoch  20  loss =  150577.41683248107\n",
      "epoch  21  loss =  150489.74745242074\n",
      "epoch  22  loss =  150401.29575402854\n",
      "epoch  23  loss =  150312.4372719842\n",
      "epoch  24  loss =  150224.5808296781\n",
      "epoch  25  loss =  150139.66231462822\n",
      "epoch  26  loss =  150059.52822286487\n",
      "epoch  27  loss =  149985.18209485905\n",
      "epoch  28  loss =  149916.3165182991\n",
      "epoch  29  loss =  149851.5735683687\n",
      "epoch  30  loss =  149789.29799280246\n",
      "epoch  31  loss =  149728.14893487276\n",
      "epoch  32  loss =  149667.296246859\n",
      "epoch  33  loss =  149606.34198286262\n",
      "epoch  34  loss =  149545.16811295462\n",
      "epoch  35  loss =  149483.80923710912\n",
      "epoch  36  loss =  149422.3702097723\n",
      "epoch  37  loss =  149360.9795484775\n",
      "epoch  38  loss =  149299.7655870803\n",
      "epoch  39  loss =  149238.8456081616\n",
      "epoch  40  loss =  149178.32189497357\n",
      "epoch  41  loss =  149118.28125307438\n",
      "epoch  42  loss =  149058.79613200805\n",
      "epoch  43  loss =  148999.92637094672\n",
      "epoch  44  loss =  148941.72107911107\n",
      "epoch  45  loss =  148884.22042070364\n",
      "epoch  46  loss =  148827.457208333\n",
      "epoch  47  loss =  148771.458276485\n",
      "epoch  48  loss =  148716.24563849074\n",
      "epoch  49  loss =  148661.8374441219\n",
      "epoch  50  loss =  148608.24875917804\n",
      "epoch  51  loss =  148555.49218821203\n",
      "epoch  52  loss =  148503.57835957987\n",
      "epoch  53  loss =  148452.51628944307\n",
      "epoch  54  loss =  148402.31363915652\n",
      "epoch  55  loss =  148352.97687884507\n",
      "epoch  56  loss =  148304.51136906978\n",
      "epoch  57  loss =  148256.9213724237\n",
      "epoch  58  loss =  148210.21000738724\n",
      "epoch  59  loss =  148164.37915777374\n",
      "epoch  60  loss =  148119.429352236\n",
      "epoch  61  loss =  148075.35962926492\n",
      "epoch  62  loss =  148032.16740352794\n",
      "epoch  63  loss =  147989.8483489105\n",
      "epoch  64  loss =  147948.39631215297\n",
      "epoch  65  loss =  147907.8032683368\n",
      "epoch  66  loss =  147868.05932582653\n",
      "epoch  67  loss =  147829.1527840395\n",
      "epoch  68  loss =  147791.07024296714\n",
      "epoch  69  loss =  147753.79675917263\n",
      "epoch  70  loss =  147717.31603964602\n",
      "epoch  71  loss =  147681.61066257377\n",
      "epoch  72  loss =  147646.66231306235\n",
      "epoch  73  loss =  147612.45202205153\n",
      "epoch  74  loss =  147578.96039784196\n",
      "epoch  75  loss =  147546.16784159534\n",
      "epoch  76  loss =  147514.0547405265\n",
      "epoch  77  loss =  147482.6016348662\n",
      "epoch  78  loss =  147451.78935687523\n",
      "epoch  79  loss =  147421.59914211158\n",
      "epoch  80  loss =  147392.01271448797\n",
      "epoch  81  loss =  147363.01234768264\n",
      "epoch  82  loss =  147334.58090600753\n",
      "epoch  83  loss =  147306.7018680258\n",
      "epoch  84  loss =  147279.3593361632\n",
      "epoch  85  loss =  147252.5380353498\n",
      "epoch  86  loss =  147226.22330332178\n",
      "epoch  87  loss =  147200.4010749068\n",
      "epoch  88  loss =  147175.05786213602\n",
      "epoch  89  loss =  147150.18073167966\n",
      "epoch  90  loss =  147125.75728080378\n",
      "epoch  91  loss =  147101.77561267215\n",
      "epoch  92  loss =  147078.22431167148\n",
      "epoch  93  loss =  147055.09241916437\n",
      "epoch  94  loss =  147032.3694099868\n",
      "epoch  95  loss =  147010.0451698671\n",
      "epoch  96  loss =  146988.10997384644\n",
      "epoch  97  loss =  146966.55446577916\n",
      "epoch  98  loss =  146945.36963886718\n",
      "epoch  99  loss =  146924.54681725535\n",
      "['intelligence', 'earth', 'planning[95']\n"
     ]
    }
   ],
   "source": []
  },
  {
   "cell_type": "code",
   "execution_count": null,
   "metadata": {},
   "outputs": [],
   "source": []
  }
 ],
 "metadata": {
  "kernelspec": {
   "display_name": "Python 3 (ipykernel)",
   "language": "python",
   "name": "python3"
  },
  "language_info": {
   "codemirror_mode": {
    "name": "ipython",
    "version": 3
   },
   "file_extension": ".py",
   "mimetype": "text/x-python",
   "name": "python",
   "nbconvert_exporter": "python",
   "pygments_lexer": "ipython3",
   "version": "3.10.8"
  },
  "vscode": {
   "interpreter": {
    "hash": "8de9ff7a305016725fb700a5eb696affecd83d8bc5ce0fa66e72697820bd861b"
   }
  }
 },
 "nbformat": 4,
 "nbformat_minor": 2
}
